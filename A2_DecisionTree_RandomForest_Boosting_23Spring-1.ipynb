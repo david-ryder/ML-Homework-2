{
  "cells": [
    {
      "cell_type": "markdown",
      "metadata": {
        "id": "w_81u4D3WhUu"
      },
      "source": [
        "# This jupyter notebook is prepared by “Your Full Name”."
      ]
    },
    {
      "cell_type": "markdown",
      "metadata": {
        "id": "ldYxL0f2k4An"
      },
      "source": [
        "# 1. Load Data and perform basic EDA (4pts total)"
      ]
    },
    {
      "cell_type": "markdown",
      "metadata": {
        "id": "X1i4jxzBl2XK"
      },
      "source": [
        "### 1.1 import libraries: numpy, pandas, matplotlib.pyplot, seaborn, sklearn (1pt)"
      ]
    },
    {
      "cell_type": "code",
      "execution_count": 6,
      "metadata": {
        "id": "75PmFmzpR8yQ"
      },
      "outputs": [],
      "source": [
        "import numpy as np\n",
        "import pandas as pd\n",
        "import matplotlib.pyplot as plt\n",
        "import seaborn as sb\n",
        "import sklearn as sk"
      ]
    },
    {
      "cell_type": "markdown",
      "metadata": {
        "id": "NXc8-6YDmJsL"
      },
      "source": [
        "### 1.2 Upload the dataset to your Google Drive, then using the following code, import the data to a pandas dataframe and show the count of rows and columns (0.5pt)"
      ]
    },
    {
      "cell_type": "code",
      "execution_count": 7,
      "metadata": {
        "id": "FdK1HFt5XOGR"
      },
      "outputs": [
        {
          "name": "stdout",
          "output_type": "stream",
          "text": [
            "Number of rows: 8955\n",
            "Number of columns: 15\n"
          ]
        }
      ],
      "source": [
        "# from google.colab import drive\n",
        "\n",
        "file_name = './hr_data_.csv' #you may need to change this line depending on the location of your file in Google Drive\n",
        "with open(file_name, 'r') as file:\n",
        "    df = pd.read_csv(file)\n",
        "\n",
        "print(f\"Number of rows: {df.shape[0]}\")\n",
        "print(f\"Number of columns: {df.shape[1]}\")"
      ]
    },
    {
      "cell_type": "markdown",
      "metadata": {
        "id": "m3KH9B2Gms7W"
      },
      "source": [
        "### 1.3 Show the top 7 and bottom 7 rows (0.5pt)"
      ]
    },
    {
      "cell_type": "code",
      "execution_count": 8,
      "metadata": {
        "id": "SaEa4cRUmWip"
      },
      "outputs": [
        {
          "name": "stdout",
          "output_type": "stream",
          "text": [
            "   Unnamed: 0  enrollee_id      city  city_development_index gender  \\\n",
            "0           1        29725   city_40                   0.776   Male   \n",
            "1           4          666  city_162                   0.767   Male   \n",
            "2           7          402   city_46                   0.762   Male   \n",
            "3           8        27107  city_103                   0.920   Male   \n",
            "4          11        23853  city_103                   0.920   Male   \n",
            "5          12        25619   city_61                   0.913   Male   \n",
            "6          15         6588  city_114                   0.926   Male   \n",
            "\n",
            "       relevent_experience enrolled_university education_level  \\\n",
            "0   No relevent experience       no_enrollment        Graduate   \n",
            "1  Has relevent experience       no_enrollment         Masters   \n",
            "2  Has relevent experience       no_enrollment        Graduate   \n",
            "3  Has relevent experience       no_enrollment        Graduate   \n",
            "4  Has relevent experience       no_enrollment        Graduate   \n",
            "5  Has relevent experience       no_enrollment        Graduate   \n",
            "6  Has relevent experience       no_enrollment        Graduate   \n",
            "\n",
            "  major_discipline  experience company_size    company_type last_new_job  \\\n",
            "0             STEM        15.0        50-99         Pvt Ltd           >4   \n",
            "1             STEM        21.0        50-99  Funded Startup            4   \n",
            "2             STEM        13.0          <10         Pvt Ltd           >4   \n",
            "3             STEM         7.0        50-99         Pvt Ltd            1   \n",
            "4             STEM         5.0    5000-9999         Pvt Ltd            1   \n",
            "5             STEM        21.0    1000-4999         Pvt Ltd            3   \n",
            "6             STEM        16.0        10/49         Pvt Ltd           >4   \n",
            "\n",
            "   training_hours  target  \n",
            "0              47     0.0  \n",
            "1               8     0.0  \n",
            "2              18     1.0  \n",
            "3              46     1.0  \n",
            "4             108     0.0  \n",
            "5              23     0.0  \n",
            "6              18     0.0  \n",
            "      Unnamed: 0  enrollee_id      city  city_development_index  gender  \\\n",
            "8948       19143        33047  city_103                   0.920    Male   \n",
            "8949       19146        13167  city_103                   0.920    Male   \n",
            "8950       19147        21319   city_21                   0.624    Male   \n",
            "8951       19149          251  city_103                   0.920    Male   \n",
            "8952       19150        32313  city_160                   0.920  Female   \n",
            "8953       19152        29754  city_103                   0.920  Female   \n",
            "8954       19155        24576  city_103                   0.920    Male   \n",
            "\n",
            "          relevent_experience enrolled_university education_level  \\\n",
            "8948  Has relevent experience       no_enrollment        Graduate   \n",
            "8949  Has relevent experience       no_enrollment        Graduate   \n",
            "8950   No relevent experience    Full time course        Graduate   \n",
            "8951  Has relevent experience       no_enrollment         Masters   \n",
            "8952  Has relevent experience       no_enrollment        Graduate   \n",
            "8953  Has relevent experience       no_enrollment        Graduate   \n",
            "8954  Has relevent experience       no_enrollment        Graduate   \n",
            "\n",
            "     major_discipline  experience company_size    company_type last_new_job  \\\n",
            "8948             STEM        21.0       10000+         Pvt Ltd           >4   \n",
            "8949             STEM         5.0      500-999         Pvt Ltd            1   \n",
            "8950             STEM         1.0      100-500         Pvt Ltd            1   \n",
            "8951             STEM         9.0        50-99         Pvt Ltd            1   \n",
            "8952             STEM        10.0      100-500   Public Sector            3   \n",
            "8953       Humanities         7.0        10/49  Funded Startup            1   \n",
            "8954             STEM        21.0        50-99         Pvt Ltd            4   \n",
            "\n",
            "      training_hours  target  \n",
            "8948              18     0.0  \n",
            "8949              51     0.0  \n",
            "8950              52     1.0  \n",
            "8951              36     1.0  \n",
            "8952              23     0.0  \n",
            "8953              25     0.0  \n",
            "8954              44     0.0  \n"
          ]
        }
      ],
      "source": [
        "top_rows = df.head(7)\n",
        "print(top_rows)\n",
        "\n",
        "bottom_rows = df.tail(7)\n",
        "print(bottom_rows)\n"
      ]
    },
    {
      "cell_type": "markdown",
      "metadata": {
        "id": "gVdizy4enKsy"
      },
      "source": [
        "### 1.4 Show if any column has null values (0.5pt)"
      ]
    },
    {
      "cell_type": "code",
      "execution_count": 9,
      "metadata": {
        "id": "youEZNzMnLbe"
      },
      "outputs": [
        {
          "name": "stdout",
          "output_type": "stream",
          "text": [
            "No cols have null values\n"
          ]
        }
      ],
      "source": [
        "null_cols = df.isnull().any()\n",
        "\n",
        "if null_cols.any():\n",
        "    print(\"These cols have null values:\")\n",
        "    print(null_cols[null_cols == True].index.tolist())\n",
        "else:\n",
        "    print(\"No cols have null values\")"
      ]
    },
    {
      "cell_type": "markdown",
      "metadata": {
        "id": "2z3XH127sPTk"
      },
      "source": [
        "### 1.5 Show/Plot the count of unique target labels and discuss its imbalances and possible issues in using it for classification. (1.5pt)"
      ]
    },
    {
      "cell_type": "code",
      "execution_count": 10,
      "metadata": {
        "id": "abZRsNaHrbij"
      },
      "outputs": [
        {
          "name": "stdout",
          "output_type": "stream",
          "text": [
            "0.0    7472\n",
            "1.0    1483\n",
            "Name: target, dtype: int64\n"
          ]
        },
        {
          "data": {
            "text/plain": [
              "<AxesSubplot: xlabel='target', ylabel='count'>"
            ]
          },
          "execution_count": 10,
          "metadata": {},
          "output_type": "execute_result"
        },
        {
          "data": {
            "image/png": "[encoded data removed]",
            "text/plain": [
              "<Figure size 640x480 with 1 Axes>"
            ]
          },
          "metadata": {},
          "output_type": "display_data"
        }
      ],
      "source": [
        "counts = df['target'].value_counts()\n",
        "print(counts)\n",
        "\n",
        "sb.countplot(x='target', data=df)"
      ]
    },
    {
      "cell_type": "markdown",
      "metadata": {
        "id": "BNbeIOjtynuO"
      },
      "source": [
        "# 2. Feature Selection and Pre-processing (25 pts total)"
      ]
    },
    {
      "cell_type": "markdown",
      "metadata": {
        "id": "owN9XnpJ1VWZ"
      },
      "source": [
        "## 2.1 Preprocessing City (1+1+1+1 = 4pts total)"
      ]
    },
    {
      "cell_type": "markdown",
      "metadata": {
        "id": "2qDnMLJy1PPF"
      },
      "source": [
        "### 2.1.1 Plot no. of records per city so that the highest city counts are shown in descending order (1pt)"
      ]
    },
    {
      "cell_type": "code",
      "execution_count": 54,
      "metadata": {
        "id": "PqC1hgu_sO--"
      },
      "outputs": [
        {
          "data": {
            "image/png": "[encoded data removed]",
            "text/plain": [
              "<Figure size 640x480 with 1 Axes>"
            ]
          },
          "metadata": {},
          "output_type": "display_data"
        }
      ],
      "source": [
        "city_counts = df['city'].value_counts().sort_values(ascending=False)\n",
        "city_counts.plot.barh()\n",
        "plt.show()"
      ]
    },
    {
      "cell_type": "markdown",
      "metadata": {
        "id": "s7WiOn891a7F"
      },
      "source": [
        "### 2.1.2 How many rows belong to the count-wise top 4 cities in total and how many for the remaining? (1pt)"
      ]
    },
    {
      "cell_type": "code",
      "execution_count": 72,
      "metadata": {
        "id": "RL9nN1Im1DrD"
      },
      "outputs": [
        {
          "name": "stdout",
          "output_type": "stream",
          "text": [
            "Number of rows for top 4 cities: 8307\n",
            "Number of rows for remaining cities 648\n"
          ]
        }
      ],
      "source": [
        "city_counts = df['city'].value_counts()\n",
        "top_cities = city_counts.head(4).index.tolist()\n",
        "num_rows_top_cities = city_counts.loc[top_cities].sum()\n",
        "num_rows_remaining_cities = len(df) - num_rows_top_cities\n",
        "\n",
        "print('Number of rows for top 4 cities:', num_rows_top_cities)\n",
        "print('Number of rows for remaining cities', num_rows_remaining_cities)"
      ]
    },
    {
      "cell_type": "markdown",
      "metadata": {
        "id": "reZOuxsBSXGF"
      },
      "source": [
        "### 2.1.3 Replace the city name with city_others if the city name is not among the top 4 (1pt)"
      ]
    },
    {
      "cell_type": "code",
      "execution_count": 73,
      "metadata": {
        "id": "IxrFi5k1Oirf"
      },
      "outputs": [],
      "source": [
        "df['city'] = df['city'].apply(\n",
        "    lambda x: 'city_others' if x not in top_cities else x\n",
        ")"
      ]
    },
    {
      "cell_type": "markdown",
      "metadata": {
        "id": "J09Oz726Sv90"
      },
      "source": [
        "### 2.1.4 Show some sample data that the records have changed correctly. (1pt)"
      ]
    },
    {
      "cell_type": "code",
      "execution_count": 74,
      "metadata": {
        "id": "esi0-ntwSvjX"
      },
      "outputs": [
        {
          "name": "stdout",
          "output_type": "stream",
          "text": [
            "   Unnamed: 0  enrollee_id         city  city_development_index gender  \\\n",
            "0           1        29725  city_others                   0.776   Male   \n",
            "1           4          666  city_others                   0.767   Male   \n",
            "2           7          402  city_others                   0.762   Male   \n",
            "5          12        25619  city_others                   0.913   Male   \n",
            "6          15         6588  city_others                   0.926   Male   \n",
            "\n",
            "       relevent_experience enrolled_university education_level  \\\n",
            "0   No relevent experience       no_enrollment        Graduate   \n",
            "1  Has relevent experience       no_enrollment         Masters   \n",
            "2  Has relevent experience       no_enrollment        Graduate   \n",
            "5  Has relevent experience       no_enrollment        Graduate   \n",
            "6  Has relevent experience       no_enrollment        Graduate   \n",
            "\n",
            "  major_discipline  experience company_size    company_type last_new_job  \\\n",
            "0             STEM        15.0        50-99         Pvt Ltd           >4   \n",
            "1             STEM        21.0        50-99  Funded Startup            4   \n",
            "2             STEM        13.0          <10         Pvt Ltd           >4   \n",
            "5             STEM        21.0    1000-4999         Pvt Ltd            3   \n",
            "6             STEM        16.0        10/49         Pvt Ltd           >4   \n",
            "\n",
            "   training_hours  target City_replaced  \n",
            "0              47     0.0   city_others  \n",
            "1               8     0.0   city_others  \n",
            "2              18     1.0   city_others  \n",
            "5              23     0.0   city_others  \n",
            "6              18     0.0      city_114  \n"
          ]
        }
      ],
      "source": [
        "print(df[df['city'] == 'city_others'].head())"
      ]
    },
    {
      "cell_type": "markdown",
      "metadata": {
        "id": "t8Y0Fz4RTAHc"
      },
      "source": [
        "## 2.2. Preprocessing Education Level (1+2+2+1 = 6pts total)"
      ]
    },
    {
      "cell_type": "markdown",
      "metadata": {
        "id": "EhNJLVAsTFT5"
      },
      "source": [
        "### 2.2.1. Show the unique values of education level. (1pt)"
      ]
    },
    {
      "cell_type": "code",
      "execution_count": 75,
      "metadata": {
        "id": "gIzfPOywTDEz"
      },
      "outputs": [
        {
          "name": "stdout",
          "output_type": "stream",
          "text": [
            "['Graduate' 'Masters' 'Phd']\n"
          ]
        }
      ],
      "source": [
        "unique_education_levels = df['education_level'].unique()\n",
        "print(unique_education_levels)"
      ]
    },
    {
      "cell_type": "markdown",
      "metadata": {
        "id": "mbLeUaKvfttp"
      },
      "source": [
        "### 2.2.2. Write a function named replace_labels() that can replace labels using given {old_label:new_label} dictionary (2pts)\n",
        "\n",
        "Parameters: (1) dataframe, (2) a column name, (3) a dictionary with {old_label:new_label} mapping. \n",
        "\n",
        "Returns: a dataframe with specified column values replaced with the  \n"
      ]
    },
    {
      "cell_type": "code",
      "execution_count": 76,
      "metadata": {
        "id": "sptGBzaVfthA"
      },
      "outputs": [],
      "source": [
        "def replace_labels(df, col_name, label_dict):\n",
        "    df_copy = df.copy()\n",
        "    df_copy[col_name] = df_copy[col_name].replace(label_dict)\n",
        "    return df_copy"
      ]
    },
    {
      "cell_type": "markdown",
      "metadata": {
        "id": "B3RuKvE8iYBu"
      },
      "source": [
        "### 2.2.3. Using the replace_labels() function you just created, replace education_level column with ordinal values. The mapping can be like \"Graduate\":0, \"Masters\":1, \"Phd\":2 . (2pt)"
      ]
    },
    {
      "cell_type": "code",
      "execution_count": 77,
      "metadata": {
        "id": "ZW1ZzKCihO0L"
      },
      "outputs": [],
      "source": [
        "education_level_dict = {\n",
        "    'Graduate': 0,\n",
        "    'Masters': 1,\n",
        "    'Phd': 2\n",
        "}\n",
        "\n",
        "df = replace_labels(df, 'education_level', education_level_dict)"
      ]
    },
    {
      "cell_type": "markdown",
      "metadata": {
        "id": "VibwcvMDnfHZ"
      },
      "source": [
        "### 2.2.4 Show some sample data that the records have changed appropriately (1pt)"
      ]
    },
    {
      "cell_type": "code",
      "execution_count": 81,
      "metadata": {
        "id": "JkObFS_bnecp"
      },
      "outputs": [
        {
          "name": "stdout",
          "output_type": "stream",
          "text": [
            "   education_level\n",
            "0                0\n",
            "1                1\n",
            "2                0\n",
            "3                0\n",
            "4                0\n"
          ]
        }
      ],
      "source": [
        "print(df[['education_level']].head())"
      ]
    },
    {
      "cell_type": "markdown",
      "metadata": {
        "id": "pBI-qbDiXI2M"
      },
      "source": [
        "## 2.3. Preprocessing company_size (2+2+1 = 5pts total)"
      ]
    },
    {
      "cell_type": "markdown",
      "metadata": {
        "id": "fP7UisA6ZS9X"
      },
      "source": [
        "### 2.3.1 Show the unique values of the company_size column and their counts (2pt)"
      ]
    },
    {
      "cell_type": "code",
      "execution_count": 82,
      "metadata": {
        "id": "VYQ8sAQljncN"
      },
      "outputs": [
        {
          "name": "stdout",
          "output_type": "stream",
          "text": [
            "50-99        1986\n",
            "100-500      1814\n",
            "10000+       1449\n",
            "10/49         951\n",
            "1000-4999     930\n",
            "<10           840\n",
            "500-999       592\n",
            "5000-9999     393\n",
            "Name: company_size, dtype: int64\n"
          ]
        }
      ],
      "source": [
        "print(df['company_size'].value_counts())"
      ]
    },
    {
      "cell_type": "markdown",
      "metadata": {
        "id": "o1iq9fTcjWMU"
      },
      "source": [
        "### 2.3.2 Change the values of the company_size column from 0 to 7 where e0 is <10 and 7 is 10000+. The order of the numbers should be based on the values of the column-like an ordinary variable. (2pt)\n",
        "(Hint: you can use the replace_labels() function you created before.)"
      ]
    },
    {
      "cell_type": "code",
      "execution_count": 20,
      "metadata": {
        "id": "qi2Y6fJfeyDi"
      },
      "outputs": [],
      "source": [
        "company_size_dict = {\n",
        "    '<10': 0,\n",
        "    '10/49': 1,\n",
        "    '50-99': 2,\n",
        "    '100-500': 3,\n",
        "    '500-999': 4,\n",
        "    '1000-4999': 5,\n",
        "    '5000-9999': 6,\n",
        "    '10000+': 7\n",
        "}\n",
        "\n",
        "df = replace_labels(df, 'company_size', company_size_dict)"
      ]
    },
    {
      "cell_type": "markdown",
      "metadata": {
        "id": "-1c8cj2wj0Bo"
      },
      "source": [
        "### 2.3.3 Show the updated unique values to validate they changed appropriately (1pt)"
      ]
    },
    {
      "cell_type": "code",
      "execution_count": 85,
      "metadata": {
        "id": "JNWa09UxelPH"
      },
      "outputs": [
        {
          "name": "stdout",
          "output_type": "stream",
          "text": [
            "['50-99' '<10' '5000-9999' '1000-4999' '10/49' '100-500' '10000+'\n",
            " '500-999']\n",
            "50-99        1986\n",
            "100-500      1814\n",
            "10000+       1449\n",
            "10/49         951\n",
            "1000-4999     930\n",
            "<10           840\n",
            "500-999       592\n",
            "5000-9999     393\n",
            "Name: company_size, dtype: int64\n"
          ]
        }
      ],
      "source": [
        "print(df['company_size'].unique())\n",
        "print(df['company_size'].value_counts())"
      ]
    },
    {
      "cell_type": "markdown",
      "metadata": {
        "id": "ray9mgZGkMyg"
      },
      "source": [
        "## 2.4. Preprocessing last_new_job (1+2+1 = 4pts total)"
      ]
    },
    {
      "cell_type": "markdown",
      "metadata": {
        "id": "Ry0YEyP7kP51"
      },
      "source": [
        "### 2.4.1 Show unique values of the last_new_job column (1pt)"
      ]
    },
    {
      "cell_type": "code",
      "execution_count": 86,
      "metadata": {
        "id": "9aGPR049kSuN"
      },
      "outputs": [
        {
          "name": "stdout",
          "output_type": "stream",
          "text": [
            "['>4' '4' '1' '3' '2' 'never']\n"
          ]
        }
      ],
      "source": [
        "print(df['last_new_job'].unique())"
      ]
    },
    {
      "cell_type": "markdown",
      "metadata": {
        "id": "KowRVFGOkXv4"
      },
      "source": [
        "### 2.4.2 Convert the values of this column to never->0, 1->1,....>4 -->5 (2pt)\n",
        "Hint: replace_labels()"
      ]
    },
    {
      "cell_type": "code",
      "execution_count": 91,
      "metadata": {
        "id": "4AfLULymkZu3"
      },
      "outputs": [
        {
          "name": "stdout",
          "output_type": "stream",
          "text": [
            "[5 4 1 3 2 0]\n"
          ]
        }
      ],
      "source": [
        "last_job_dict = {\n",
        "    'never': 0,\n",
        "    '1': 1,\n",
        "    '2': 2,\n",
        "    '3': 3,\n",
        "    '4': 4,\n",
        "    '>4': 5\n",
        "}\n",
        "\n",
        "df = replace_labels(df, 'last_new_job', last_job_dict)\n",
        "\n",
        "print(df['last_new_job'].unique())"
      ]
    },
    {
      "cell_type": "markdown",
      "metadata": {
        "id": "3T-Wjg6dk3Uj"
      },
      "source": [
        "### 2.4.3 Show the updated values (1pt)"
      ]
    },
    {
      "cell_type": "code",
      "execution_count": 92,
      "metadata": {
        "id": "dpI9oBlbk5bb"
      },
      "outputs": [
        {
          "name": "stdout",
          "output_type": "stream",
          "text": [
            "1    3838\n",
            "5    1965\n",
            "2    1570\n",
            "3     610\n",
            "4     599\n",
            "0     373\n",
            "Name: last_new_job, dtype: int64\n"
          ]
        }
      ],
      "source": [
        "print(df['last_new_job'].value_counts())"
      ]
    },
    {
      "cell_type": "markdown",
      "metadata": {
        "id": "3R2tk1uJlGa5"
      },
      "source": [
        "## 2.5 Preprocessing other columns (2pt total)"
      ]
    },
    {
      "cell_type": "markdown",
      "metadata": {
        "id": "RuJyodTglKCH"
      },
      "source": [
        "### 2.5.1 Drop the enrollee_id, any unnamed columns, and any duplicate columns (if you created multiple columns one with original and one with updated, then remove the original one) (2pt)"
      ]
    },
    {
      "cell_type": "code",
      "execution_count": 93,
      "metadata": {
        "id": "f8eJgpamlOfr"
      },
      "outputs": [],
      "source": [
        "df = df.loc[:, ~df.columns.str.contains('^Unnamed')]\n",
        "df = df.drop('enrollee_id', axis=1)\n",
        "df = df.loc[:, ~df.columns.duplicated()]"
      ]
    },
    {
      "cell_type": "markdown",
      "metadata": {
        "id": "5M9JeVgJowZm"
      },
      "source": [
        "## 2.6 Feature Scaling (3+1 = 4ps total)"
      ]
    },
    {
      "cell_type": "markdown",
      "metadata": {
        "id": "oYeJBSu9o0-V"
      },
      "source": [
        "### 2.6.1 Use sklearn.preprocessing's MinMaxScaler to perform min max scaling to all the numeric columns (3pt)"
      ]
    },
    {
      "cell_type": "code",
      "execution_count": 94,
      "metadata": {
        "id": "0TZHEB3srp2x"
      },
      "outputs": [],
      "source": [
        "from sklearn.preprocessing import MinMaxScaler\n",
        "\n",
        "scaler = MinMaxScaler()\n",
        "\n",
        "num_cols = df.select_dtypes(include=['int64', 'float64']).columns\n",
        "\n",
        "df[num_cols] = scaler.fit_transform(df[num_cols])"
      ]
    },
    {
      "cell_type": "markdown",
      "metadata": {
        "id": "fCradyXLQWct"
      },
      "source": [
        "### 2.6.2 Show some of the scaled records. (1pt)"
      ]
    },
    {
      "cell_type": "code",
      "execution_count": 96,
      "metadata": {
        "id": "AUBUON0a1DqI"
      },
      "outputs": [
        {
          "name": "stdout",
          "output_type": "stream",
          "text": [
            "          city  city_development_index gender      relevent_experience  \\\n",
            "0  city_others                0.654691   Male   No relevent experience   \n",
            "1  city_others                0.636727   Male  Has relevent experience   \n",
            "2  city_others                0.626747   Male  Has relevent experience   \n",
            "3     city_103                0.942116   Male  Has relevent experience   \n",
            "4     city_103                0.942116   Male  Has relevent experience   \n",
            "\n",
            "  enrolled_university  education_level major_discipline  experience  \\\n",
            "0       no_enrollment              0.0             STEM    0.714286   \n",
            "1       no_enrollment              0.5             STEM    1.000000   \n",
            "2       no_enrollment              0.0             STEM    0.619048   \n",
            "3       no_enrollment              0.0             STEM    0.333333   \n",
            "4       no_enrollment              0.0             STEM    0.238095   \n",
            "\n",
            "  company_size    company_type  last_new_job  training_hours  target  \\\n",
            "0        50-99         Pvt Ltd           1.0        0.137313     0.0   \n",
            "1        50-99  Funded Startup           0.8        0.020896     0.0   \n",
            "2          <10         Pvt Ltd           1.0        0.050746     1.0   \n",
            "3        50-99         Pvt Ltd           0.2        0.134328     1.0   \n",
            "4    5000-9999         Pvt Ltd           0.2        0.319403     0.0   \n",
            "\n",
            "  City_replaced  \n",
            "0   city_others  \n",
            "1   city_others  \n",
            "2   city_others  \n",
            "3      city_103  \n",
            "4      city_103  \n"
          ]
        }
      ],
      "source": [
        "print(df.head())"
      ]
    },
    {
      "cell_type": "markdown",
      "metadata": {
        "id": "bAqPdBXbum0v"
      },
      "source": [
        "# 3. X/Y and Training/Test Split with stratified sampling (15pts in total)"
      ]
    },
    {
      "cell_type": "markdown",
      "metadata": {
        "id": "n0vy1uyKF5DV"
      },
      "source": [
        "### 3.1 Using a lot of features with categorical values is not memory-efficient. Use a LabelEncoder() to convert all the categorical columns to numeric labels. (This task is similar to previous assignment A1) (2pt)"
      ]
    },
    {
      "cell_type": "code",
      "execution_count": 97,
      "metadata": {
        "id": "QTDOZN6adW3m"
      },
      "outputs": [],
      "source": [
        "from sklearn.preprocessing import LabelEncoder\n",
        "\n",
        "categorical_cols = list(df.select_dtypes(include=['object']).columns)\n",
        "\n",
        "encoder = LabelEncoder()\n",
        "\n",
        "for col in categorical_cols:\n",
        "    df[col] = encoder.fit_transform(df[col].astype(str))"
      ]
    },
    {
      "cell_type": "markdown",
      "metadata": {
        "id": "qgh6gbo__lAd"
      },
      "source": [
        "### 3.2 Copy all the features into X and the target to Y (2pt)"
      ]
    },
    {
      "cell_type": "code",
      "execution_count": 98,
      "metadata": {
        "id": "hJ5l0aLz_swD"
      },
      "outputs": [],
      "source": [
        "X = df.drop('target', axis=1)\n",
        "Y = df['target']"
      ]
    },
    {
      "cell_type": "markdown",
      "metadata": {
        "id": "7mxgOZ8bWCTG"
      },
      "source": [
        "### 3.3 Show the ratio of 1 and 0 in Y. (1pt)"
      ]
    },
    {
      "cell_type": "code",
      "execution_count": 32,
      "metadata": {
        "id": "xCTReI87WwIn"
      },
      "outputs": [],
      "source": [
        "# TODO"
      ]
    },
    {
      "cell_type": "markdown",
      "metadata": {
        "id": "sYiNLcbZWw-p"
      },
      "source": [
        "### 3.4 Use sklearn's train_test_split() to split the data set into 70% training and 30% test sets. Set random_state to 42. We want to have the same ratio of 0 and 1 in the test set, use the stratify parameter to Y to ensure this. Then show the ratio of 1 and 0 in both train and test target. (4pt)"
      ]
    },
    {
      "cell_type": "code",
      "execution_count": 33,
      "metadata": {
        "id": "g-h2q8R4XQxX"
      },
      "outputs": [],
      "source": [
        "# TODO"
      ]
    },
    {
      "cell_type": "markdown",
      "metadata": {
        "id": "9go74asN_4A3"
      },
      "source": [
        "### 3.5 Rebalancing (4+2 = 6pts)"
      ]
    },
    {
      "cell_type": "markdown",
      "metadata": {
        "id": "DcaOwlmnDFrN"
      },
      "source": [
        "3.5.1 Use imblearn's SMOTENC to balance the x_train\n"
      ]
    },
    {
      "cell_type": "markdown",
      "metadata": {
        "id": "TMo87lbJSiIB"
      },
      "source": [
        "When our training set have class imbalance, we often perform over-sampling to generate synthetic data that can help in training. SMOTE is a library by imblearn for this purpose. The usage is fairly straightforward. See documentation [here](https://imbalanced-learn.org/stable/references/generated/imblearn.over_sampling.SMOTENC.html#imblearn.over_sampling.SMOTENC) and a brief explanation with example [here](https://medium.com/analytics-vidhya/smote-nc-in-ml-categorization-models-fo-imbalanced-datasets-8adbdcf08c25)"
      ]
    },
    {
      "cell_type": "code",
      "execution_count": 34,
      "metadata": {
        "id": "Gg5q3iNCaCX5"
      },
      "outputs": [],
      "source": [
        "# TODO"
      ]
    },
    {
      "cell_type": "markdown",
      "metadata": {
        "id": "OOLWrq4EC6pN"
      },
      "source": [
        "3.5.2 Did that change the ratio in label? Confirm by printing the ratio in resampled labels."
      ]
    },
    {
      "cell_type": "code",
      "execution_count": 35,
      "metadata": {
        "id": "gX5UzM45CgKg"
      },
      "outputs": [],
      "source": [
        "# TODO"
      ]
    },
    {
      "cell_type": "markdown",
      "metadata": {
        "id": "IEKsXRt-aDbT"
      },
      "source": [
        "# 4. Decision Tree (20pts total)"
      ]
    },
    {
      "cell_type": "markdown",
      "metadata": {
        "id": "IW262Gdlakso"
      },
      "source": [
        "### 4.1 Initialize a decision tree model using sklearns DecisionTreeClassifier. Use the unbalanced training set. Set a consistent value for random_state parameter so that your result is reproducible. (1pt)"
      ]
    },
    {
      "cell_type": "code",
      "execution_count": 36,
      "metadata": {
        "id": "tZ8TFB2kauD8"
      },
      "outputs": [],
      "source": [
        "# TODO"
      ]
    },
    {
      "cell_type": "markdown",
      "metadata": {
        "id": "Zl1qOJnvVXxh"
      },
      "source": [
        "### 4.2 Use grid search to find out the best combination of values for the parameters: criterion, max_depth, min_samples_split, max_features. Then print the best performing parameters. (4pt)"
      ]
    },
    {
      "cell_type": "code",
      "execution_count": 37,
      "metadata": {
        "id": "qQpIAji7M_od"
      },
      "outputs": [],
      "source": [
        "# TODO"
      ]
    },
    {
      "cell_type": "markdown",
      "metadata": {
        "id": "UJRSRsVeWC8y"
      },
      "source": [
        "### 4.3 Add the best performing parameter set to the already-initialized Decision Tree model. Then fit it on the train dataset. (2pt)"
      ]
    },
    {
      "cell_type": "code",
      "execution_count": 38,
      "metadata": {
        "id": "hEaJbzrlQaBY"
      },
      "outputs": [],
      "source": [
        "# TODO"
      ]
    },
    {
      "cell_type": "markdown",
      "metadata": {
        "id": "WPYRzwmIWeSZ"
      },
      "source": [
        "### 4.4 Import the accuracy_score, precision_score, recall_score, confusion_matrix, f1_score, roc_auc_score from scikitlearn's metrics package. Evaluate your Decision Tree on the Test dataset and print all the metrics. (3pt)"
      ]
    },
    {
      "cell_type": "code",
      "execution_count": 39,
      "metadata": {
        "id": "Opr3pQspcwQN"
      },
      "outputs": [],
      "source": [
        "# TODO"
      ]
    },
    {
      "cell_type": "markdown",
      "metadata": {
        "id": "2UP7aQs0GQwX"
      },
      "source": [
        "### 4.5 Plot the tree using scikitlearn's tree package. You may need to define a large figure size using matplotlib to have an intelligible figure. (2pt)"
      ]
    },
    {
      "cell_type": "code",
      "execution_count": 40,
      "metadata": {
        "id": "pnwDm0uiE-KP"
      },
      "outputs": [],
      "source": [
        "# TODO"
      ]
    },
    {
      "cell_type": "markdown",
      "metadata": {
        "id": "RmrdrwU-Dvf6"
      },
      "source": [
        "### 4.6 Initialize a new Decision Tree model, then use the best set of parameters from Step 4.3 to train it on the balanced train set that you prepared in Step 3.5.1. (3pt)"
      ]
    },
    {
      "cell_type": "code",
      "execution_count": 41,
      "metadata": {
        "id": "7SD0orb7Dhdf"
      },
      "outputs": [],
      "source": [
        "# TODO"
      ]
    },
    {
      "cell_type": "markdown",
      "metadata": {
        "id": "ICoCAMplYVKh"
      },
      "source": [
        "### 4.7 Print the evaluation scores (accuracy_score, precision_score, recall_score, confusion_matrix, f1_score, roc_auc_score) from the training on balanced dataset. (3pt)"
      ]
    },
    {
      "cell_type": "code",
      "execution_count": 42,
      "metadata": {
        "id": "-VQUO4EvY0Xr"
      },
      "outputs": [],
      "source": [
        "# TODO"
      ]
    },
    {
      "cell_type": "markdown",
      "metadata": {
        "id": "wMv-Nmaew3td"
      },
      "source": [
        "### 4.8 Discuss any difference between evaluation results from the unbalanced train set and balanced train set. (2pt)"
      ]
    },
    {
      "cell_type": "markdown",
      "metadata": {
        "id": "2c_ZSzbW1Opy"
      },
      "source": [
        "'#TODO'"
      ]
    },
    {
      "attachments": {},
      "cell_type": "markdown",
      "metadata": {
        "id": "x_h1QYuVSqQf"
      },
      "source": [
        "# 5. Random Forest Classifier (12pts total)"
      ]
    },
    {
      "cell_type": "markdown",
      "metadata": {
        "id": "36D52lOdVs2o"
      },
      "source": [
        "### 5.1 Use grid search to find best combinations of the following Random Forest parameters: n_estimators, max_depth, min_samples_split and min_samples_leaf. Use your own choice of scoring, criterion, number of folds for cross-validation for the model initialization. Remember the grid search can take a while to finish. (4pt)"
      ]
    },
    {
      "cell_type": "code",
      "execution_count": 43,
      "metadata": {
        "id": "ogCCZd3XStni"
      },
      "outputs": [],
      "source": [
        "# TODO"
      ]
    },
    {
      "cell_type": "markdown",
      "metadata": {
        "id": "gV2NO3hjaCEh"
      },
      "source": [
        "### 5.2 Print the best combination of parameters and use it to train a Random Forest classifier model. (3pt)"
      ]
    },
    {
      "cell_type": "code",
      "execution_count": 44,
      "metadata": {
        "id": "AgzZUi_kWxyh"
      },
      "outputs": [],
      "source": [
        "# TODO"
      ]
    },
    {
      "cell_type": "markdown",
      "metadata": {
        "id": "8p9ibWd8aSbk"
      },
      "source": [
        "### 5.3  Evaluate using the same metrics as before (accuracy_score, precision_score, recall_score, confusion_matrix, f1_score, roc_auc_score) (5pt)"
      ]
    },
    {
      "cell_type": "code",
      "execution_count": 45,
      "metadata": {
        "id": "6d5bRGXyYa8Z"
      },
      "outputs": [],
      "source": [
        "# TODO"
      ]
    },
    {
      "cell_type": "markdown",
      "metadata": {
        "id": "-XuX9sEUcu42"
      },
      "source": [
        "# 6. Boosting Classifier (20 pts total)"
      ]
    },
    {
      "cell_type": "markdown",
      "metadata": {
        "id": "k9g6-WtWoQli"
      },
      "source": [
        "## 6.1 AdaBoost Classifier (10 pts total)"
      ]
    },
    {
      "cell_type": "markdown",
      "metadata": {
        "id": "94faLGF4dHDX"
      },
      "source": [
        "### 6.1.1 Perform a grid search for best values for parameters={n_estimators, learning_rate} of an AdaBoostClassifier and the given training set. (4pt) "
      ]
    },
    {
      "cell_type": "code",
      "execution_count": 46,
      "metadata": {
        "id": "jFwyYsHQc0jb"
      },
      "outputs": [],
      "source": [
        "# TODO"
      ]
    },
    {
      "cell_type": "markdown",
      "metadata": {
        "id": "Hmofa6lXcG5l"
      },
      "source": [
        "### 6.1.2 Train an AdaboostClassifier using the best parameter set you found in step 6.1.1 (3pt) "
      ]
    },
    {
      "cell_type": "code",
      "execution_count": 47,
      "metadata": {
        "id": "JiQmOcz8gjNi"
      },
      "outputs": [],
      "source": [
        "# TODO"
      ]
    },
    {
      "cell_type": "markdown",
      "metadata": {
        "id": "SOpbWfoTcYMS"
      },
      "source": [
        "### 6.1.3 Evaluate using the same metrics as before (accuracy_score, precision_score, recall_score, confusion_matrix, f1_score, roc_auc_score) (3pt)"
      ]
    },
    {
      "cell_type": "code",
      "execution_count": 48,
      "metadata": {
        "id": "mGS9o87aiQrP"
      },
      "outputs": [],
      "source": [
        "# TODO"
      ]
    },
    {
      "cell_type": "markdown",
      "metadata": {
        "id": "5T2QO0aloZwg"
      },
      "source": [
        "## 6.2 Gradient Boosting Classifier (10 pts total)"
      ]
    },
    {
      "cell_type": "markdown",
      "metadata": {
        "id": "Xf-QJ-tVcnSU"
      },
      "source": [
        "### 6.2.1 Perform a grid search for best values for parameters={n_estimators, max_depth, learning_rate} of a GradientBoostingClassifier and the given training set. (4pt)"
      ]
    },
    {
      "cell_type": "code",
      "execution_count": 49,
      "metadata": {
        "id": "8erF7UBQhXd3"
      },
      "outputs": [],
      "source": [
        "# TODO"
      ]
    },
    {
      "cell_type": "markdown",
      "metadata": {
        "id": "RRZKR-bHott5"
      },
      "source": [
        "### 6.2.2 Train a GradientBoostingClassifier using the best parameter set you found in step 6.2.1 (3pt) "
      ]
    },
    {
      "cell_type": "code",
      "execution_count": 50,
      "metadata": {
        "id": "bAQZH-KqkrNq"
      },
      "outputs": [],
      "source": [
        "# TODO"
      ]
    },
    {
      "cell_type": "markdown",
      "metadata": {
        "id": "yzVtBSlpo9wF"
      },
      "source": [
        "### 6.2.3 Evaluate using the same metrics as before (accuracy_score, precision_score, recall_score, confusion_matrix, f1_score, roc_auc_score) (3pt)"
      ]
    },
    {
      "cell_type": "code",
      "execution_count": 51,
      "metadata": {
        "id": "-xl5Bdwyk8_W"
      },
      "outputs": [],
      "source": [
        "# TODO"
      ]
    },
    {
      "cell_type": "markdown",
      "metadata": {
        "id": "LW4nKeUQ2Ewh"
      },
      "source": [
        "# 7. Summary Discussion (4 pts)"
      ]
    },
    {
      "cell_type": "markdown",
      "metadata": {
        "id": "LSekQD9J2GTc"
      },
      "source": [
        "Which model yields the highest precision?\n",
        "\n",
        "Which model yields the lowest recall? \n",
        "\n",
        "Which model yields the higest True Positive (TP)? \n",
        "\n",
        "Which model yields the best performance overall? \n"
      ]
    }
  ],
  "metadata": {
    "colab": {
      "provenance": []
    },
    "kernelspec": {
      "display_name": "Python 3",
      "language": "python",
      "name": "python3"
    },
    "language_info": {
      "codemirror_mode": {
        "name": "ipython",
        "version": 3
      },
      "file_extension": ".py",
      "mimetype": "text/x-python",
      "name": "python",
      "nbconvert_exporter": "python",
      "pygments_lexer": "ipython3",
      "version": "3.10.6"
    },
    "vscode": {
      "interpreter": {
        "hash": "91ccbeda090b25afe2cedac8d83ae6499ff9af9230ed9f00a7676b31a06712fb"
      }
    }
  },
  "nbformat": 4,
  "nbformat_minor": 0
}
